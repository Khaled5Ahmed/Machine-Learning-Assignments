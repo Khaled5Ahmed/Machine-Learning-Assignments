{
 "cells": [
  {
   "cell_type": "markdown",
   "id": "60363755-cb95-4b62-b11c-04f0ac1a3afd",
   "metadata": {},
   "source": [
    "# Regression Models using Scikit-Learn\n",
    "## Linear, Ridge (L2), and Lasso (L1) Regression\n",
    "This notebook demonstrates how to train and evaluate three regression models — Linear, Ridge, and Lasso — using Scikit-Learn on the provided dataset.\n"
   ]
  },
  {
   "cell_type": "markdown",
   "id": "7040d87b-700b-4d15-adc4-6be147db0fe4",
   "metadata": {},
   "source": [
    "## Importing Required Libraries"
   ]
  },
  {
   "cell_type": "code",
   "execution_count": 54,
   "id": "08a4ef9f-4a65-4d6d-a624-18a1831ad940",
   "metadata": {},
   "outputs": [],
   "source": [
    "\n",
    "from sklearn import datasets\n",
    "from sklearn import linear_model\n",
    "from sklearn.model_selection import train_test_split\n",
    "from matplotlib import pyplot as plt\n",
    "import pandas as pd\n",
    "import numpy as np\n",
    "from sklearn.metrics import mean_squared_error,mean_absolute_error,r2_score\n",
    "from sklearn.preprocessing import StandardScaler\n",
    "from sklearn.linear_model import LinearRegression\n",
    "from sklearn.linear_model import Lasso\n",
    "from sklearn.linear_model import Ridge\n"
   ]
  },
  {
   "cell_type": "markdown",
   "id": "c1f5f497-b07c-4b5b-8305-fedd67dec75e",
   "metadata": {},
   "source": [
    "## Loading and Inspecting the Dataset"
   ]
  },
  {
   "cell_type": "code",
   "execution_count": 38,
   "id": "33e1c5dd-6277-4e52-85b1-50df9107447a",
   "metadata": {},
   "outputs": [],
   "source": [
    "df = pd.read_csv(\"California_Houses.csv\")\n",
    "# X are the predictior features that's why we dropped the Median House Value column because that's the target\n",
    "x = df.drop(columns=['Median_House_Value'])\n",
    "# Median House Value is the target and we need to predict the values\n",
    "y = df['Median_House_Value']\n"
   ]
  },
  {
   "cell_type": "markdown",
   "id": "69a95056-7e60-456d-adc2-9050d2bb89b6",
   "metadata": {},
   "source": [
    "## Train, Validation, Test Split"
   ]
  },
  {
   "cell_type": "code",
   "execution_count": 16,
   "id": "9223d3d8-47f4-4ee3-8d6b-68acea5c1044",
   "metadata": {},
   "outputs": [],
   "source": [
    "#Here we are splitting the data into 85% training set and 15% validation test that we will use after training the model \n",
    "x_train_val, x_test, y_train_val, y_test = train_test_split(x,y, test_size=(15/100) , random_state = 42)\n",
    "#Here we are spliiting the 85% into 70% training set and 15% testing test for the model\n",
    "x_train , x_val, y_train , y_val = train_test_split(x_train_val,y_train_val, test_size=(15/85), random_state=42)\n"
   ]
  },
  {
   "cell_type": "markdown",
   "id": "5c0e2d19-2480-4cbe-8b16-22fb535d6d43",
   "metadata": {},
   "source": [
    "## Feature Scaling"
   ]
  },
  {
   "cell_type": "code",
   "execution_count": 46,
   "id": "ea72dede-1f22-4513-ad48-69887ea71a45",
   "metadata": {},
   "outputs": [],
   "source": [
    "#Here we are scaling the data so that some columns value will dominate the values of other column and make the model behave badly\n",
    "scaler = StandardScaler()\n",
    "scaler.fit(x_train)\n",
    "x_train_scaled = scaler.transform(x_train)\n",
    "x_val_scaled= scaler.transform(x_val)\n",
    "x_test_scaled= scaler.transform(x_test)"
   ]
  },
  {
   "cell_type": "markdown",
   "id": "e3021e64-74d0-4abd-acf9-103131e091e1",
   "metadata": {},
   "source": [
    "## Model 1: Linear Regression"
   ]
  },
  {
   "cell_type": "code",
   "execution_count": 53,
   "id": "1eaa3ff9-cc56-4a70-bd7f-bb46f5778a23",
   "metadata": {},
   "outputs": [
    {
     "name": "stdout",
     "output_type": "stream",
     "text": [
      "Final Test Results:\n",
      "MSE: 4857004593.678398\n",
      "MAE: 4857004593.678398\n",
      "R²: 0.6293799615491322\n"
     ]
    }
   ],
   "source": [
    "#Linear Regression\n",
    "\n",
    "#Training the Model\n",
    "regressor = LinearRegression()\n",
    "regressor.fit(x_train_scaled, y_train)\n",
    "\n",
    "# Predict on validation data\n",
    "y_pred = regressor.predict(x_val_scaled)\n",
    "\n",
    "\n",
    "# Evaluate using validation set\n",
    "mse = mean_squared_error(y_val, y_pred)\n",
    "mae = mean_absolute_error(y_val, y_pred)\n",
    "r2 = r2_score(y_val, y_pred)\n",
    "\n",
    "#Fianl Evaluation with the testing Set\n",
    "y_pred_test = regressor.predict(x_test_scaled)\n",
    "\n",
    "mse_test = mean_squared_error(y_test,y_pred_test)\n",
    "mae_test = mean_squared_error(y_test,y_pred_test)\n",
    "r2_test = r2_score(y_test,y_pred_test)\n",
    "\n",
    "print(\"Final Test Results:\")\n",
    "print(\"MSE:\", mse_test)\n",
    "print(\"MAE:\", mae_test)\n",
    "print(\"R²:\", r2_test)"
   ]
  },
  {
   "cell_type": "markdown",
   "id": "b314b2b8-ac01-42af-9b18-90d6b9730ea7",
   "metadata": {},
   "source": [
    "## Model 2: Lasso Regression (L1)"
   ]
  },
  {
   "cell_type": "code",
   "execution_count": 51,
   "id": "27768577-ed25-42c4-801d-8b7a3282b9fc",
   "metadata": {},
   "outputs": [
    {
     "name": "stdout",
     "output_type": "stream",
     "text": [
      "\n",
      "Best alpha: 0.001\n",
      "\n",
      "Final Test Results:\n",
      "MSE: 4855339654.3690605\n",
      "MAE: 50732.63630045991\n",
      "R²: 0.6295070069037213\n"
     ]
    }
   ],
   "source": [
    "# L1 Regularization (Lasso Regression)\n",
    "\n",
    "alphas = [0.001, 0.005, 0.01, 0.1, 1, 10]\n",
    "results = []\n",
    "\n",
    "for a in alphas:\n",
    "    model = Lasso(alpha=a, max_iter=200000, tol=0.01) \n",
    "    model.fit(x_train_scaled, y_train)\n",
    "    y_pred = model.predict(x_val_scaled)\n",
    "    mse = mean_squared_error(y_val, y_pred)\n",
    "    mae = mean_absolute_error(y_val, y_pred)\n",
    "    r2 = r2_score(y_val, y_pred)\n",
    "    results.append((a, mse, mae, r2))\n",
    "\n",
    "# Pick best alpha\n",
    "best_result = min(results, key=lambda x: x[1])\n",
    "best_alpha = best_result[0]\n",
    "print(\"\\nBest alpha:\", best_alpha)\n",
    "\n",
    "# Train final model on training + validation\n",
    "final_model = Lasso(alpha=best_alpha, max_iter=200000, tol=0.01)\n",
    "final_model.fit(np.concatenate((x_train_scaled, x_val_scaled)),\n",
    "                np.concatenate((y_train, y_val)))\n",
    "\n",
    "# Test evaluation\n",
    "y_pred_test = final_model.predict(x_test_scaled)\n",
    "print(\"\\nFinal Test Results:\")\n",
    "print(\"MSE:\", mean_squared_error(y_test, y_pred_test))\n",
    "print(\"MAE:\", mean_absolute_error(y_test, y_pred_test))\n",
    "print(\"R²:\", r2_score(y_test, y_pred_test))\n"
   ]
  },
  {
   "cell_type": "markdown",
   "id": "c23e3717-8eec-4538-8198-5712f3d0e3db",
   "metadata": {},
   "source": [
    "## Model 3: Ridge Regression (L2)"
   ]
  },
  {
   "cell_type": "code",
   "execution_count": 49,
   "id": "19c49141-fdea-422d-8b92-970dbdaf7c5e",
   "metadata": {},
   "outputs": [
    {
     "name": "stdout",
     "output_type": "stream",
     "text": [
      "\n",
      "Best alpha: 0.001\n",
      "\n",
      "Final Test Results:\n",
      "MSE: 4855339796.263224\n",
      "MAE: 50732.63951573494\n",
      "R²: 0.6295069960763031\n"
     ]
    }
   ],
   "source": [
    "#L2 Regularization (Ridge Regression)\n",
    "alphas = [0.001, 0.005, 0.01, 0.1, 1, 10]\n",
    "results = []\n",
    "\n",
    "for a in alphas:\n",
    "    model = Ridge(alpha=a, max_iter=200000, tol=0.01) \n",
    "    model.fit(x_train_scaled, y_train)\n",
    "    y_pred = model.predict(x_val_scaled)\n",
    "    mse = mean_squared_error(y_val, y_pred)\n",
    "    mae = mean_absolute_error(y_val, y_pred)\n",
    "    r2 = r2_score(y_val, y_pred)\n",
    "    results.append((a, mse, mae, r2))\n",
    "\n",
    "# Pick best alpha\n",
    "best_result = min(results, key=lambda x: x[1])\n",
    "best_alpha = best_result[0]\n",
    "print(\"\\nBest alpha:\", best_alpha)\n",
    "\n",
    "# Train final model on training + validation\n",
    "final_model = Ridge(alpha=best_alpha, max_iter=200000, tol=0.01)\n",
    "final_model.fit(np.concatenate((x_train_scaled, x_val_scaled)),\n",
    "                np.concatenate((y_train, y_val)))\n",
    "\n",
    "# Test evaluation\n",
    "y_pred_test = final_model.predict(x_test_scaled)\n",
    "print(\"\\nFinal Test Results:\")\n",
    "print(\"MSE:\", mean_squared_error(y_test, y_pred_test))\n",
    "print(\"MAE:\", mean_absolute_error(y_test, y_pred_test))\n",
    "print(\"R²:\", r2_score(y_test, y_pred_test))"
   ]
  }
 ],
 "metadata": {
  "kernelspec": {
   "display_name": "Python 3 (ipykernel)",
   "language": "python",
   "name": "python3"
  },
  "language_info": {
   "codemirror_mode": {
    "name": "ipython",
    "version": 3
   },
   "file_extension": ".py",
   "mimetype": "text/x-python",
   "name": "python",
   "nbconvert_exporter": "python",
   "pygments_lexer": "ipython3",
   "version": "3.13.5"
  }
 },
 "nbformat": 4,
 "nbformat_minor": 5
}
