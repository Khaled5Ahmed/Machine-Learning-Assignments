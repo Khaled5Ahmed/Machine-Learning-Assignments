{
 "cells": [
  {
   "cell_type": "markdown",
   "id": "6adf1a91-da34-4b02-acc3-70d62e7a63e4",
   "metadata": {},
   "source": [
    "# Import Libraries"
   ]
  },
  {
   "cell_type": "code",
   "execution_count": 99,
   "id": "379d61ec-2163-4574-8a2a-affc68a7e3ef",
   "metadata": {},
   "outputs": [],
   "source": [
    "import numpy as np\n",
    "import pandas as pd\n",
    "from sklearn.model_selection import train_test_split"
   ]
  },
  {
   "cell_type": "markdown",
   "id": "114dc4f1-af75-48e7-aa38-c1c66646ea6f",
   "metadata": {},
   "source": [
    "# Data Loading"
   ]
  },
  {
   "cell_type": "code",
   "execution_count": 23,
   "id": "4394ea80-f5af-464f-97c4-f8a7d7a7b160",
   "metadata": {},
   "outputs": [],
   "source": [
    "df = pd.read_csv(\"California_Houses.csv\")"
   ]
  },
  {
   "cell_type": "code",
   "execution_count": 27,
   "id": "8bfedcd7-bac1-47fb-8928-312e8b43455d",
   "metadata": {},
   "outputs": [
    {
     "name": "stdout",
     "output_type": "stream",
     "text": [
      "(20640, 14)\n"
     ]
    }
   ],
   "source": [
    "print(df.shape)"
   ]
  },
  {
   "cell_type": "code",
   "execution_count": 29,
   "id": "82431427-762c-4179-b5f0-9924f3fea291",
   "metadata": {},
   "outputs": [
    {
     "name": "stdout",
     "output_type": "stream",
     "text": [
      "   Median_House_Value  Median_Income  Median_Age  Tot_Rooms  Tot_Bedrooms  \\\n",
      "0            452600.0         8.3252          41        880           129   \n",
      "1            358500.0         8.3014          21       7099          1106   \n",
      "2            352100.0         7.2574          52       1467           190   \n",
      "3            341300.0         5.6431          52       1274           235   \n",
      "4            342200.0         3.8462          52       1627           280   \n",
      "\n",
      "   Population  Households  Latitude  Longitude  Distance_to_coast  \\\n",
      "0         322         126     37.88    -122.23        9263.040773   \n",
      "1        2401        1138     37.86    -122.22       10225.733072   \n",
      "2         496         177     37.85    -122.24        8259.085109   \n",
      "3         558         219     37.85    -122.25        7768.086571   \n",
      "4         565         259     37.85    -122.25        7768.086571   \n",
      "\n",
      "   Distance_to_LA  Distance_to_SanDiego  Distance_to_SanJose  \\\n",
      "0   556529.158342         735501.806984         67432.517001   \n",
      "1   554279.850069         733236.884360         65049.908574   \n",
      "2   554610.717069         733525.682937         64867.289833   \n",
      "3   555194.266086         734095.290744         65287.138412   \n",
      "4   555194.266086         734095.290744         65287.138412   \n",
      "\n",
      "   Distance_to_SanFrancisco  \n",
      "0              21250.213767  \n",
      "1              20880.600400  \n",
      "2              18811.487450  \n",
      "3              18031.047568  \n",
      "4              18031.047568  \n"
     ]
    }
   ],
   "source": [
    "print(df.head())"
   ]
  },
  {
   "cell_type": "code",
   "execution_count": 31,
   "id": "468ec180-2458-4d7d-b168-e34f94dee49f",
   "metadata": {},
   "outputs": [
    {
     "name": "stdout",
     "output_type": "stream",
     "text": [
      "<class 'pandas.core.frame.DataFrame'>\n",
      "RangeIndex: 20640 entries, 0 to 20639\n",
      "Data columns (total 14 columns):\n",
      " #   Column                    Non-Null Count  Dtype  \n",
      "---  ------                    --------------  -----  \n",
      " 0   Median_House_Value        20640 non-null  float64\n",
      " 1   Median_Income             20640 non-null  float64\n",
      " 2   Median_Age                20640 non-null  int64  \n",
      " 3   Tot_Rooms                 20640 non-null  int64  \n",
      " 4   Tot_Bedrooms              20640 non-null  int64  \n",
      " 5   Population                20640 non-null  int64  \n",
      " 6   Households                20640 non-null  int64  \n",
      " 7   Latitude                  20640 non-null  float64\n",
      " 8   Longitude                 20640 non-null  float64\n",
      " 9   Distance_to_coast         20640 non-null  float64\n",
      " 10  Distance_to_LA            20640 non-null  float64\n",
      " 11  Distance_to_SanDiego      20640 non-null  float64\n",
      " 12  Distance_to_SanJose       20640 non-null  float64\n",
      " 13  Distance_to_SanFrancisco  20640 non-null  float64\n",
      "dtypes: float64(9), int64(5)\n",
      "memory usage: 2.2 MB\n",
      "None\n"
     ]
    }
   ],
   "source": [
    "print(df.info())"
   ]
  },
  {
   "cell_type": "code",
   "execution_count": 35,
   "id": "72f4ea1f-d314-443c-83e9-ede6519cb6a7",
   "metadata": {},
   "outputs": [
    {
     "name": "stdout",
     "output_type": "stream",
     "text": [
      "       Median_House_Value  Median_Income    Median_Age     Tot_Rooms  \\\n",
      "count        20640.000000   20640.000000  20640.000000  20640.000000   \n",
      "mean        206855.816909       3.870671     28.639486   2635.763081   \n",
      "std         115395.615874       1.899822     12.585558   2181.615252   \n",
      "min          14999.000000       0.499900      1.000000      2.000000   \n",
      "25%         119600.000000       2.563400     18.000000   1447.750000   \n",
      "50%         179700.000000       3.534800     29.000000   2127.000000   \n",
      "75%         264725.000000       4.743250     37.000000   3148.000000   \n",
      "max         500001.000000      15.000100     52.000000  39320.000000   \n",
      "\n",
      "       Tot_Bedrooms    Population    Households      Latitude     Longitude  \\\n",
      "count  20640.000000  20640.000000  20640.000000  20640.000000  20640.000000   \n",
      "mean     537.898014   1425.476744    499.539680     35.631861   -119.569704   \n",
      "std      421.247906   1132.462122    382.329753      2.135952      2.003532   \n",
      "min        1.000000      3.000000      1.000000     32.540000   -124.350000   \n",
      "25%      295.000000    787.000000    280.000000     33.930000   -121.800000   \n",
      "50%      435.000000   1166.000000    409.000000     34.260000   -118.490000   \n",
      "75%      647.000000   1725.000000    605.000000     37.710000   -118.010000   \n",
      "max     6445.000000  35682.000000   6082.000000     41.950000   -114.310000   \n",
      "\n",
      "       Distance_to_coast  Distance_to_LA  Distance_to_SanDiego  \\\n",
      "count       20640.000000    2.064000e+04          2.064000e+04   \n",
      "mean        40509.264883    2.694220e+05          3.981649e+05   \n",
      "std         49140.039160    2.477324e+05          2.894006e+05   \n",
      "min           120.676447    4.205891e+02          4.849180e+02   \n",
      "25%          9079.756762    3.211125e+04          1.594264e+05   \n",
      "50%         20522.019101    1.736675e+05          2.147398e+05   \n",
      "75%         49830.414479    5.271562e+05          7.057954e+05   \n",
      "max        333804.686371    1.018260e+06          1.196919e+06   \n",
      "\n",
      "       Distance_to_SanJose  Distance_to_SanFrancisco  \n",
      "count         20640.000000              20640.000000  \n",
      "mean         349187.551219             386688.422291  \n",
      "std          217149.875026             250122.192316  \n",
      "min             569.448118                456.141313  \n",
      "25%          113119.928682             117395.477505  \n",
      "50%          459758.877000             526546.661701  \n",
      "75%          516946.490963             584552.007907  \n",
      "max          836762.678210             903627.663298  \n"
     ]
    }
   ],
   "source": [
    "print(df.describe())"
   ]
  },
  {
   "cell_type": "code",
   "execution_count": 37,
   "id": "a7f742e5-3f79-4968-be11-6986e3bca59a",
   "metadata": {},
   "outputs": [
    {
     "name": "stdout",
     "output_type": "stream",
     "text": [
      "Median_House_Value          0\n",
      "Median_Income               0\n",
      "Median_Age                  0\n",
      "Tot_Rooms                   0\n",
      "Tot_Bedrooms                0\n",
      "Population                  0\n",
      "Households                  0\n",
      "Latitude                    0\n",
      "Longitude                   0\n",
      "Distance_to_coast           0\n",
      "Distance_to_LA              0\n",
      "Distance_to_SanDiego        0\n",
      "Distance_to_SanJose         0\n",
      "Distance_to_SanFrancisco    0\n",
      "dtype: int64\n"
     ]
    }
   ],
   "source": [
    "print(df.isnull().sum())\n",
    "df.fillna(df.mean(), inplace=True)"
   ]
  },
  {
   "cell_type": "code",
   "execution_count": 37,
   "id": "408e0652-69f9-4329-9c06-eb0a19c2771d",
   "metadata": {},
   "outputs": [
    {
     "name": "stdout",
     "output_type": "stream",
     "text": [
      "Median_House_Value          0\n",
      "Median_Income               0\n",
      "Median_Age                  0\n",
      "Tot_Rooms                   0\n",
      "Tot_Bedrooms                0\n",
      "Population                  0\n",
      "Households                  0\n",
      "Latitude                    0\n",
      "Longitude                   0\n",
      "Distance_to_coast           0\n",
      "Distance_to_LA              0\n",
      "Distance_to_SanDiego        0\n",
      "Distance_to_SanJose         0\n",
      "Distance_to_SanFrancisco    0\n",
      "dtype: int64\n"
     ]
    }
   ],
   "source": [
    "print(df.isnull().sum())\n",
    "df.fillna(df.mean(), inplace=True)"
   ]
  },
  {
   "cell_type": "markdown",
   "id": "7f0a2bb4-4022-4480-86e7-f3aa23e81e27",
   "metadata": {},
   "source": [
    "# Data Splitting"
   ]
  },
  {
   "cell_type": "code",
   "execution_count": 101,
   "id": "a669ceab-4a7f-452f-bf88-598ab7fc3aa8",
   "metadata": {},
   "outputs": [
    {
     "name": "stdout",
     "output_type": "stream",
     "text": [
      "Train size: 14448\n",
      "Validation size: 3096\n",
      "Test size: 3096\n"
     ]
    }
   ],
   "source": [
    "X = df.drop(\"Median_House_Value\", axis=1).values\n",
    "y = df[\"Median_House_Value\"].values\n",
    "\n",
    "X_train, X_temp, y_train, y_temp = train_test_split(X, y, test_size=0.3, random_state=42)\n",
    "\n",
    "X_val, X_test, y_val, y_test = train_test_split(X_temp, y_temp, test_size=0.5, random_state=42)\n",
    "\n",
    "print(\"Train size:\", X_train.shape[0])\n",
    "print(\"Validation size:\", X_val.shape[0])\n",
    "print(\"Test size:\", X_test.shape[0])"
   ]
  },
  {
   "cell_type": "code",
   "execution_count": 74,
   "id": "c11ced21-83c6-496c-97fd-157b761f1ab5",
   "metadata": {},
   "outputs": [
    {
     "data": {
      "text/plain": [
       "((14448, 13), (3096, 13), (3096, 13))"
      ]
     },
     "execution_count": 74,
     "metadata": {},
     "output_type": "execute_result"
    }
   ],
   "source": [
    "X_train.shape , X_val.shape , X_test.shape "
   ]
  },
  {
   "cell_type": "markdown",
   "id": "61c205f5-3ba7-443a-8da2-644cbe130917",
   "metadata": {},
   "source": [
    "# Create Model From Scratch"
   ]
  },
  {
   "cell_type": "markdown",
   "id": "58a4e0b2-f6e6-4ef8-a9c4-9d40e6a3831c",
   "metadata": {},
   "source": [
    "### Implementing using Normal Equation"
   ]
  },
  {
   "cell_type": "code",
   "execution_count": 207,
   "id": "61217a56-b9e2-46af-8c70-377e4e6df3af",
   "metadata": {},
   "outputs": [
    {
     "name": "stdout",
     "output_type": "stream",
     "text": [
      "[117112.59499985 332653.97680117 406311.5956708  ... 254464.49377846\n",
      " 142097.9688237  205083.4967788 ]\n"
     ]
    }
   ],
   "source": [
    "#  Merge column 1 into X to\n",
    "X_train_b = np.c_[np.ones((X_train.shape[0], 1)), X_train]\n",
    "X_val_b = np.c_[np.ones ((X_val.shape[0], 1)), X_val]\n",
    "\n",
    "# Calculate weights (w)\n",
    "w = np.linalg.inv(X_train_b.T.dot(X_train_b)).dot(X_train_b.T).dot(y_train)\n",
    "\n",
    "# prediction\n",
    "y_val_pred = X_val_b.dot(w)\n",
    "print(y_val_pred)"
   ]
  },
  {
   "cell_type": "markdown",
   "id": "3e84f1b5-0087-4fc7-b0a9-86c934547eaf",
   "metadata": {},
   "source": [
    "#### Feature Scaling"
   ]
  },
  {
   "cell_type": "markdown",
   "id": "f25826b9-8f19-4ed4-a5a5-3e8ffeb95e03",
   "metadata": {},
   "source": [
    "X_mean = np.mean(X_train, axis=0)\n",
    "X_std = np.std(X_train, axis=0)\n",
    "X_train_scaled = (X_train - X_mean) / X_std\n",
    "X_val_scaled = (X_val - X_mean) / X_std"
   ]
  },
  {
   "cell_type": "markdown",
   "id": "a764b87d-4389-4de3-9a70-7bbdc9f509f7",
   "metadata": {},
   "source": [
    "### Implemetation using Gradient Descent"
   ]
  },
  {
   "cell_type": "code",
   "execution_count": 170,
   "id": "49108b81-cb34-44c0-bafe-12f6cfb48894",
   "metadata": {},
   "outputs": [
    {
     "name": "stdout",
     "output_type": "stream",
     "text": [
      "[[124639.76014016]\n",
      " [338778.99633609]\n",
      " [402108.32176819]\n",
      " ...\n",
      " [233954.01149026]\n",
      " [159274.84100195]\n",
      " [211716.54776925]]\n"
     ]
    }
   ],
   "source": [
    "def gradient_descent(X, y, learning_rate=0.01, iterations=1000):\n",
    "    n = len(y)\n",
    "    X_b = np.c_[np.ones((n, 1)), X]\n",
    "    w = np.random.randn(X_b.shape[1], 1)\n",
    "    y = np.array(y).reshape(-1, 1)\n",
    "\n",
    "    for iteration in range(iterations):\n",
    "        gradients = 2/n * X_b.T.dot(X_b.dot(w) - y)\n",
    "        w -= learning_rate * gradients\n",
    "    return w\n",
    "\n",
    "w_gd = gradient_descent(X_train_scaled, y_train)\n",
    "y_val_pred_gd = np.c_[np.ones((X_val.shape[0], 1)), X_val_scaled].dot(w_gd)\n",
    "print(y_val_pred_gd)"
   ]
  },
  {
   "cell_type": "code",
   "execution_count": 139,
   "id": "0eb1ef9d-3c3b-4cdf-bb9f-4201f6e20b7d",
   "metadata": {},
   "outputs": [
    {
     "name": "stdout",
     "output_type": "stream",
     "text": [
      "206923.9608942414 115745.23650984169\n",
      "205464.92477700833 90868.05471370397\n"
     ]
    }
   ],
   "source": [
    "print(np.mean(y_train), np.std(y_train))\n",
    "print(np.mean(y_val_pred_gd), np.std(y_val_pred_gd))\n"
   ]
  },
  {
   "cell_type": "markdown",
   "id": "391f21e7-400a-4f8b-ac05-fb7d48fa13bc",
   "metadata": {},
   "source": [
    "### L2 Regularization (Ridge Regression)"
   ]
  },
  {
   "cell_type": "code",
   "execution_count": 190,
   "id": "5c56e5f3-ce9f-4241-857f-f761368bb0d0",
   "metadata": {},
   "outputs": [
    {
     "name": "stdout",
     "output_type": "stream",
     "text": [
      "[124073.98268416 334353.86884925 401782.00832662 ... 241680.16159623\n",
      " 152309.03705059 210073.3202035 ]\n"
     ]
    }
   ],
   "source": [
    "def ridge_regression(X, y, lampda=0.01):\n",
    "    n = len(y)\n",
    "    X_b = np.c_[np.ones((n, 1)), X]\n",
    "    I = np.eye(X_b.shape[1])\n",
    "    I[0,0] = 0  # Do not penalize bias operator.\n",
    "    w_l2 = np.linalg.inv(X_b.T.dot(X_b) + lampda * n *I).dot(X_b.T).dot(y)\n",
    "    return w_l2\n",
    "w_l2 = ridge_regression(X_train_scaled, y_train)\n",
    "y_val_pred_l2 = np.c_[np.ones((X_val.shape[0], 1)), X_val_scaled].dot(w_l2)\n",
    "print(y_val_pred_l2)"
   ]
  },
  {
   "cell_type": "code",
   "execution_count": 188,
   "id": "91d8c234-a821-4353-8d46-11d4b47323c8",
   "metadata": {},
   "outputs": [
    {
     "name": "stdout",
     "output_type": "stream",
     "text": [
      "206923.9608942414 115745.23650984169\n",
      "205388.11060144924 92120.80930941543\n"
     ]
    }
   ],
   "source": [
    "print(np.mean(y_train), np.std(y_train))\n",
    "print(np.mean(y_val_pred_l2), np.std(y_val_pred_l2))"
   ]
  },
  {
   "cell_type": "markdown",
   "id": "bc035f7c-06af-44e9-a732-57b07f757a50",
   "metadata": {},
   "source": [
    "### Mean Square Error (MSE)"
   ]
  },
  {
   "cell_type": "code",
   "execution_count": 199,
   "id": "800593e4-20cc-4d08-a669-1bf1a0d3312e",
   "metadata": {},
   "outputs": [],
   "source": [
    "def mean_squared_error_manual(y_true, y_pred):\n",
    "    errors = y_true - y_pred                 \n",
    "    squared_errors = errors ** 2             \n",
    "    mse = 0.5 * np.mean(squared_errors)      \n",
    "    return mse"
   ]
  },
  {
   "cell_type": "markdown",
   "id": "0f9b38ea-20ce-4ea3-a5ba-a7b58f7f8a8a",
   "metadata": {},
   "source": [
    "### Mean Absolute Error (MAE)"
   ]
  },
  {
   "cell_type": "code",
   "execution_count": 201,
   "id": "21d761be-a4e9-4227-bf8a-a64f1f1096bf",
   "metadata": {},
   "outputs": [],
   "source": [
    "def mean_absolute_error_manual(y_true, y_pred):\n",
    "    errors = np.abs(y_true - y_pred)         \n",
    "    mae = np.mean(errors)               \n",
    "    return mae"
   ]
  },
  {
   "cell_type": "code",
   "execution_count": 211,
   "id": "6ec6138e-b1ec-4629-bd42-ddeaffd5cb0a",
   "metadata": {},
   "outputs": [
    {
     "name": "stdout",
     "output_type": "stream",
     "text": [
      "Manual MSE: 2453605998.6716285\n",
      "Manual MAE: 50790.06027315035\n"
     ]
    }
   ],
   "source": [
    "mse_value = mean_squared_error_manual(y_val, y_val_pred)\n",
    "mae_value = mean_absolute_error_manual(y_val, y_val_pred)\n",
    "\n",
    "print(f\"Manual MSE: {mse_value}\")\n",
    "print(f\"Manual MAE: {mae_value}\")"
   ]
  }
 ],
 "metadata": {
  "kernelspec": {
   "display_name": "Python 3 (ipykernel)",
   "language": "python",
   "name": "python3"
  },
  "language_info": {
   "codemirror_mode": {
    "name": "ipython",
    "version": 3
   },
   "file_extension": ".py",
   "mimetype": "text/x-python",
   "name": "python",
   "nbconvert_exporter": "python",
   "pygments_lexer": "ipython3",
   "version": "3.12.4"
  }
 },
 "nbformat": 4,
 "nbformat_minor": 5
}
