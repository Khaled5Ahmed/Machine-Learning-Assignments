{
 "cells": [
  {
   "cell_type": "markdown",
   "id": "a0d019b9-de03-4a12-a8f3-eb3bcbc013d5",
   "metadata": {},
   "source": [
    "# Regression Models"
   ]
  },
  {
   "cell_type": "markdown",
   "id": "6adf1a91-da34-4b02-acc3-70d62e7a63e4",
   "metadata": {},
   "source": [
    "# Import Libraries"
   ]
  },
  {
   "cell_type": "code",
   "execution_count": 48,
   "id": "379d61ec-2163-4574-8a2a-affc68a7e3ef",
   "metadata": {},
   "outputs": [],
   "source": [
    "import numpy as np\n",
    "import pandas as pd\n",
    "from sklearn.model_selection import train_test_split\n",
    "\n",
    "from matplotlib import pyplot as plt\n",
    "from sklearn import datasets\n",
    "from sklearn import linear_model\n",
    "from sklearn.metrics import mean_squared_error,mean_absolute_error\n",
    "from sklearn.preprocessing import StandardScaler\n",
    "from sklearn.linear_model import LinearRegression\n",
    "from sklearn.linear_model import Lasso\n",
    "from sklearn.linear_model import Ridge\n"
   ]
  },
  {
   "cell_type": "markdown",
   "id": "114dc4f1-af75-48e7-aa38-c1c66646ea6f",
   "metadata": {},
   "source": [
    "# Data Loading & Inspecting the Dataset"
   ]
  },
  {
   "cell_type": "code",
   "execution_count": 50,
   "id": "4394ea80-f5af-464f-97c4-f8a7d7a7b160",
   "metadata": {},
   "outputs": [],
   "source": [
    "df = pd.read_csv(\"California_Houses.csv\")"
   ]
  },
  {
   "cell_type": "code",
   "execution_count": 51,
   "id": "8bfedcd7-bac1-47fb-8928-312e8b43455d",
   "metadata": {},
   "outputs": [
    {
     "name": "stdout",
     "output_type": "stream",
     "text": [
      "(20640, 14)\n"
     ]
    }
   ],
   "source": [
    "print(df.shape)"
   ]
  },
  {
   "cell_type": "code",
   "execution_count": 52,
   "id": "82431427-762c-4179-b5f0-9924f3fea291",
   "metadata": {},
   "outputs": [
    {
     "name": "stdout",
     "output_type": "stream",
     "text": [
      "   Median_House_Value  Median_Income  Median_Age  Tot_Rooms  Tot_Bedrooms  \\\n",
      "0            452600.0         8.3252          41        880           129   \n",
      "1            358500.0         8.3014          21       7099          1106   \n",
      "2            352100.0         7.2574          52       1467           190   \n",
      "3            341300.0         5.6431          52       1274           235   \n",
      "4            342200.0         3.8462          52       1627           280   \n",
      "\n",
      "   Population  Households  Latitude  Longitude  Distance_to_coast  \\\n",
      "0         322         126     37.88    -122.23        9263.040773   \n",
      "1        2401        1138     37.86    -122.22       10225.733072   \n",
      "2         496         177     37.85    -122.24        8259.085109   \n",
      "3         558         219     37.85    -122.25        7768.086571   \n",
      "4         565         259     37.85    -122.25        7768.086571   \n",
      "\n",
      "   Distance_to_LA  Distance_to_SanDiego  Distance_to_SanJose  \\\n",
      "0   556529.158342         735501.806984         67432.517001   \n",
      "1   554279.850069         733236.884360         65049.908574   \n",
      "2   554610.717069         733525.682937         64867.289833   \n",
      "3   555194.266086         734095.290744         65287.138412   \n",
      "4   555194.266086         734095.290744         65287.138412   \n",
      "\n",
      "   Distance_to_SanFrancisco  \n",
      "0              21250.213767  \n",
      "1              20880.600400  \n",
      "2              18811.487450  \n",
      "3              18031.047568  \n",
      "4              18031.047568  \n"
     ]
    }
   ],
   "source": [
    "print(df.head())"
   ]
  },
  {
   "cell_type": "code",
   "execution_count": 53,
   "id": "468ec180-2458-4d7d-b168-e34f94dee49f",
   "metadata": {},
   "outputs": [
    {
     "name": "stdout",
     "output_type": "stream",
     "text": [
      "<class 'pandas.core.frame.DataFrame'>\n",
      "RangeIndex: 20640 entries, 0 to 20639\n",
      "Data columns (total 14 columns):\n",
      " #   Column                    Non-Null Count  Dtype  \n",
      "---  ------                    --------------  -----  \n",
      " 0   Median_House_Value        20640 non-null  float64\n",
      " 1   Median_Income             20640 non-null  float64\n",
      " 2   Median_Age                20640 non-null  int64  \n",
      " 3   Tot_Rooms                 20640 non-null  int64  \n",
      " 4   Tot_Bedrooms              20640 non-null  int64  \n",
      " 5   Population                20640 non-null  int64  \n",
      " 6   Households                20640 non-null  int64  \n",
      " 7   Latitude                  20640 non-null  float64\n",
      " 8   Longitude                 20640 non-null  float64\n",
      " 9   Distance_to_coast         20640 non-null  float64\n",
      " 10  Distance_to_LA            20640 non-null  float64\n",
      " 11  Distance_to_SanDiego      20640 non-null  float64\n",
      " 12  Distance_to_SanJose       20640 non-null  float64\n",
      " 13  Distance_to_SanFrancisco  20640 non-null  float64\n",
      "dtypes: float64(9), int64(5)\n",
      "memory usage: 2.2 MB\n",
      "None\n"
     ]
    }
   ],
   "source": [
    "print(df.info())"
   ]
  },
  {
   "cell_type": "code",
   "execution_count": 54,
   "id": "72f4ea1f-d314-443c-83e9-ede6519cb6a7",
   "metadata": {},
   "outputs": [
    {
     "name": "stdout",
     "output_type": "stream",
     "text": [
      "       Median_House_Value  Median_Income    Median_Age     Tot_Rooms  \\\n",
      "count        20640.000000   20640.000000  20640.000000  20640.000000   \n",
      "mean        206855.816909       3.870671     28.639486   2635.763081   \n",
      "std         115395.615874       1.899822     12.585558   2181.615252   \n",
      "min          14999.000000       0.499900      1.000000      2.000000   \n",
      "25%         119600.000000       2.563400     18.000000   1447.750000   \n",
      "50%         179700.000000       3.534800     29.000000   2127.000000   \n",
      "75%         264725.000000       4.743250     37.000000   3148.000000   \n",
      "max         500001.000000      15.000100     52.000000  39320.000000   \n",
      "\n",
      "       Tot_Bedrooms    Population    Households      Latitude     Longitude  \\\n",
      "count  20640.000000  20640.000000  20640.000000  20640.000000  20640.000000   \n",
      "mean     537.898014   1425.476744    499.539680     35.631861   -119.569704   \n",
      "std      421.247906   1132.462122    382.329753      2.135952      2.003532   \n",
      "min        1.000000      3.000000      1.000000     32.540000   -124.350000   \n",
      "25%      295.000000    787.000000    280.000000     33.930000   -121.800000   \n",
      "50%      435.000000   1166.000000    409.000000     34.260000   -118.490000   \n",
      "75%      647.000000   1725.000000    605.000000     37.710000   -118.010000   \n",
      "max     6445.000000  35682.000000   6082.000000     41.950000   -114.310000   \n",
      "\n",
      "       Distance_to_coast  Distance_to_LA  Distance_to_SanDiego  \\\n",
      "count       20640.000000    2.064000e+04          2.064000e+04   \n",
      "mean        40509.264883    2.694220e+05          3.981649e+05   \n",
      "std         49140.039160    2.477324e+05          2.894006e+05   \n",
      "min           120.676447    4.205891e+02          4.849180e+02   \n",
      "25%          9079.756762    3.211125e+04          1.594264e+05   \n",
      "50%         20522.019101    1.736675e+05          2.147398e+05   \n",
      "75%         49830.414479    5.271562e+05          7.057954e+05   \n",
      "max        333804.686371    1.018260e+06          1.196919e+06   \n",
      "\n",
      "       Distance_to_SanJose  Distance_to_SanFrancisco  \n",
      "count         20640.000000              20640.000000  \n",
      "mean         349187.551219             386688.422291  \n",
      "std          217149.875026             250122.192316  \n",
      "min             569.448118                456.141313  \n",
      "25%          113119.928682             117395.477505  \n",
      "50%          459758.877000             526546.661701  \n",
      "75%          516946.490963             584552.007907  \n",
      "max          836762.678210             903627.663298  \n"
     ]
    }
   ],
   "source": [
    "print(df.describe())"
   ]
  },
  {
   "cell_type": "code",
   "execution_count": 55,
   "id": "a7f742e5-3f79-4968-be11-6986e3bca59a",
   "metadata": {},
   "outputs": [
    {
     "name": "stdout",
     "output_type": "stream",
     "text": [
      "Median_House_Value          0\n",
      "Median_Income               0\n",
      "Median_Age                  0\n",
      "Tot_Rooms                   0\n",
      "Tot_Bedrooms                0\n",
      "Population                  0\n",
      "Households                  0\n",
      "Latitude                    0\n",
      "Longitude                   0\n",
      "Distance_to_coast           0\n",
      "Distance_to_LA              0\n",
      "Distance_to_SanDiego        0\n",
      "Distance_to_SanJose         0\n",
      "Distance_to_SanFrancisco    0\n",
      "dtype: int64\n"
     ]
    }
   ],
   "source": [
    "print(df.isnull().sum())\n",
    "df.fillna(df.mean(), inplace=True)"
   ]
  },
  {
   "cell_type": "code",
   "execution_count": 56,
   "id": "408e0652-69f9-4329-9c06-eb0a19c2771d",
   "metadata": {},
   "outputs": [
    {
     "name": "stdout",
     "output_type": "stream",
     "text": [
      "Median_House_Value          0\n",
      "Median_Income               0\n",
      "Median_Age                  0\n",
      "Tot_Rooms                   0\n",
      "Tot_Bedrooms                0\n",
      "Population                  0\n",
      "Households                  0\n",
      "Latitude                    0\n",
      "Longitude                   0\n",
      "Distance_to_coast           0\n",
      "Distance_to_LA              0\n",
      "Distance_to_SanDiego        0\n",
      "Distance_to_SanJose         0\n",
      "Distance_to_SanFrancisco    0\n",
      "dtype: int64\n"
     ]
    }
   ],
   "source": [
    "print(df.isnull().sum())\n",
    "df.fillna(df.mean(), inplace=True)"
   ]
  },
  {
   "cell_type": "markdown",
   "id": "7f0a2bb4-4022-4480-86e7-f3aa23e81e27",
   "metadata": {},
   "source": [
    "# Data Splitting (Training , Validation , Test)"
   ]
  },
  {
   "cell_type": "code",
   "execution_count": 58,
   "id": "a669ceab-4a7f-452f-bf88-598ab7fc3aa8",
   "metadata": {},
   "outputs": [
    {
     "name": "stdout",
     "output_type": "stream",
     "text": [
      "Train size: 14448\n",
      "Validation size: 3096\n",
      "Test size: 3096\n"
     ]
    }
   ],
   "source": [
    "X = df.drop(\"Median_House_Value\", axis=1).values\n",
    "y = df[\"Median_House_Value\"].values\n",
    "\n",
    "X_train, X_temp, y_train, y_temp = train_test_split(X, y, test_size=0.3, random_state=42)\n",
    "\n",
    "X_val, X_test, y_val, y_test = train_test_split(X_temp, y_temp, test_size=0.5, random_state=42)\n",
    "\n",
    "print(\"Train size:\", X_train.shape[0])\n",
    "print(\"Validation size:\", X_val.shape[0])\n",
    "print(\"Test size:\", X_test.shape[0])"
   ]
  },
  {
   "cell_type": "markdown",
   "id": "e2112b7c-e84a-494a-a3f0-b539ec5cec51",
   "metadata": {},
   "source": [
    "## Feature Scalling"
   ]
  },
  {
   "cell_type": "code",
   "execution_count": 60,
   "id": "62ebc045-53f2-426f-b50e-6cc72a52cfea",
   "metadata": {},
   "outputs": [],
   "source": [
    "X_mean = np.mean(X_train, axis=0)\n",
    "X_std = np.std(X_train, axis=0)\n",
    "X_train_scaled = (X_train - X_mean) / X_std\n",
    "X_val_scaled = (X_val - X_mean) / X_std\n",
    "X_test_scaled = (X_test - X_mean) / X_std"
   ]
  },
  {
   "cell_type": "code",
   "execution_count": 61,
   "id": "c11ced21-83c6-496c-97fd-157b761f1ab5",
   "metadata": {},
   "outputs": [
    {
     "data": {
      "text/plain": [
       "((14448, 13), (3096, 13), (3096, 13))"
      ]
     },
     "execution_count": 61,
     "metadata": {},
     "output_type": "execute_result"
    }
   ],
   "source": [
    "X_train.shape , X_val.shape , X_test.shape "
   ]
  },
  {
   "cell_type": "markdown",
   "id": "61c205f5-3ba7-443a-8da2-644cbe130917",
   "metadata": {},
   "source": [
    "# Part 1: Regression Models From Scratch"
   ]
  },
  {
   "cell_type": "markdown",
   "id": "58a4e0b2-f6e6-4ef8-a9c4-9d40e6a3831c",
   "metadata": {},
   "source": [
    "### Implementing using Normal Equation"
   ]
  },
  {
   "cell_type": "code",
   "execution_count": 172,
   "id": "61217a56-b9e2-46af-8c70-377e4e6df3af",
   "metadata": {},
   "outputs": [
    {
     "name": "stdout",
     "output_type": "stream",
     "text": [
      "[117112.59499985 332653.97680117 406311.5956708  ... 254464.49377846\n",
      " 142097.9688237  205083.4967788 ]\n",
      "[111105.47632701 113660.90241879 237586.1200905  ...  89108.02157612\n",
      " 149375.24135161 248930.5182664 ]\n"
     ]
    }
   ],
   "source": [
    "#  Merge column 1 into X to\n",
    "X_train_b = np.c_[np.ones((X_train.shape[0], 1)), X_train]\n",
    "X_val_b = np.c_[np.ones ((X_val.shape[0], 1)), X_val]\n",
    "X_test_b = np.c_[np.ones((X_test.shape[0], 1)), X_test]\n",
    "\n",
    "# Calculate weights (w)\n",
    "w = np.linalg.inv(X_train_b.T.dot(X_train_b)).dot(X_train_b.T).dot(y_train)\n",
    "\n",
    "# prediction\n",
    "y_val_pred = X_val_b.dot(w)\n",
    "y_test_pred = X_test_b.dot(w)\n",
    "\n",
    "print(y_val_pred)\n",
    "print(y_test_pred)"
   ]
  },
  {
   "cell_type": "markdown",
   "id": "bc035f7c-06af-44e9-a732-57b07f757a50",
   "metadata": {},
   "source": [
    "### Mean Square Error (MSE)"
   ]
  },
  {
   "cell_type": "code",
   "execution_count": 66,
   "id": "800593e4-20cc-4d08-a669-1bf1a0d3312e",
   "metadata": {},
   "outputs": [],
   "source": [
    "def mean_squared_error_manual(y_true, y_pred):\n",
    "    errors = y_true - y_pred                 \n",
    "    squared_errors = errors ** 2             \n",
    "    mse = np.mean(squared_errors)      \n",
    "    return mse"
   ]
  },
  {
   "cell_type": "markdown",
   "id": "0f9b38ea-20ce-4ea3-a5ba-a7b58f7f8a8a",
   "metadata": {},
   "source": [
    "### Mean Absolute Error (MAE)"
   ]
  },
  {
   "cell_type": "code",
   "execution_count": 68,
   "id": "21d761be-a4e9-4227-bf8a-a64f1f1096bf",
   "metadata": {},
   "outputs": [],
   "source": [
    "def mean_absolute_error_manual(y_true, y_pred):\n",
    "    errors = np.abs(y_true - y_pred)         \n",
    "    mae = np.mean(errors)               \n",
    "    return mae"
   ]
  },
  {
   "cell_type": "markdown",
   "id": "a764b87d-4389-4de3-9a70-7bbdc9f509f7",
   "metadata": {},
   "source": [
    "### Implemetation using Gradient Descent"
   ]
  },
  {
   "cell_type": "code",
   "execution_count": 70,
   "id": "49108b81-cb34-44c0-bafe-12f6cfb48894",
   "metadata": {},
   "outputs": [],
   "source": [
    "def gradient_descent(X, y, learning_rate, iterations=10000):\n",
    "    n = len(y)\n",
    "    X_b = np.c_[np.ones((n, 1)), X]\n",
    "    w_gd = np.random.randn(X_b.shape[1], 1)\n",
    "    y = np.array(y).reshape(-1, 1)\n",
    "    losses = []\n",
    "\n",
    "    for iteration in range(iterations):\n",
    "        gradients = 2/n * X_b.T.dot(X_b.dot(w) - y)\n",
    "        w -= learning_rate * gradients\n",
    "        error = X_b.dot(w_gd) - y\n",
    "        losses.append(np.mean(error**2))\n",
    "        \n",
    "    return w, losses"
   ]
  },
  {
   "cell_type": "code",
   "execution_count": 137,
   "id": "9859c628-ccbc-4312-8d11-d90cc4d7383d",
   "metadata": {},
   "outputs": [
    {
     "name": "stdout",
     "output_type": "stream",
     "text": [
      "learning_rate=1e-05 | MSE=27441787555.92 | MAE=139009.50\n",
      "learning_rate=0.0001 | MSE=5311939431.16 | MAE=52863.87\n",
      "learning_rate=0.001 | MSE=4964710261.92 | MAE=51339.08\n",
      "learning_rate=0.01 | MSE=4912851134.11 | MAE=50861.18\n",
      "learning_rate=0.1 | MSE=4907211931.37 | MAE=50790.07\n",
      " Best learning rate: 0.1\n",
      "\n",
      "Validation -> MSE: 4907211931.36 | MAE: 50790.07\n"
     ]
    }
   ],
   "source": [
    "learning_rates = [0.00001, 0.0001, 0.001, 0.01, 0.1]\n",
    "results = []\n",
    "\n",
    "for i in range(iterations):\n",
    "        error = X_b.dot(w) - y\n",
    "        gradients = 2/n * X_b.T.dot(error)\n",
    "        w -= learning_rate * gradients\n",
    "        loss = np.mean(error**2)\n",
    "        losses.append(loss)\n",
    "\n",
    "    return w, losses\n",
    "\n",
    "\n",
    "for lr in learning_rates:\n",
    "    w_gd = gradient_descent(X_train_scaled, y_train, learning_rate=lr, iterations=20000)  \n",
    "    y_val_pred_gd = np.c_[np.ones((X_val.shape[0], 1)), X_val_scaled].dot(w_gd)\n",
    "    \n",
    "    mse = mean_squared_error(y_val, y_val_pred_gd)\n",
    "    mae = mean_absolute_error(y_val, y_val_pred_gd)\n",
    "    \n",
    "    results.append((lr, mse, mae))\n",
    "    print(f\"learning_rate={lr} | MSE={mse:.2f} | MAE={mae:.2f}\")\n",
    "\n",
    "# 🔹 Step 2: Pick best learning rate\n",
    "best_result_gd = min(results, key=lambda x: x[1])\n",
    "best_lr = best_result_gd[0]\n",
    "print(\" Best learning rate:\", best_lr)\n",
    "\n",
    "\n",
    "# 🔹 Step 3: Retrain using the best learning rate on training data\n",
    "w_best = gradient_descent(X_train_scaled, y_train, learning_rate=best_lr, iterations=20000)\n",
    "\n",
    "\n",
    "# 🔹 Step 4: Evaluate on both validation & test sets\n",
    "y_val_pred_best = np.c_[np.ones((X_val.shape[0], 1)), X_val_scaled].dot(w_best).ravel()\n",
    "y_test_pred_best = np.c_[np.ones((X_test.shape[0], 1)), X_test_scaled].dot(w_best).ravel()\n",
    "\n",
    "\n",
    "mse_val = mean_squared_error(y_val, y_val_pred_best)\n",
    "mae_val = mean_absolute_error(y_val, y_val_pred_best)\n",
    "print(f\"\\nValidation -> MSE: {mse_val:.2f} | MAE: {mae_val:.2f}\")"
   ]
  },
  {
   "cell_type": "code",
   "execution_count": 201,
   "id": "cdfe6eb3-0ea2-4cec-a255-330c4efaec09",
   "metadata": {},
   "outputs": [
    {
     "name": "stdout",
     "output_type": "stream",
     "text": [
      "learning_rate=0.0001 | Validation MSE=11953419119.23\n",
      "learning_rate=0.0001438449888287663 | Validation MSE=8144447205.04\n",
      "learning_rate=0.00020691380811147902 | Validation MSE=6189990265.28\n",
      "learning_rate=0.00029763514416313193 | Validation MSE=5489432078.57\n",
      "learning_rate=0.00042813323987193956 | Validation MSE=5288502621.23\n",
      "learning_rate=0.0006158482110660267 | Validation MSE=5195039815.13\n",
      "learning_rate=0.0008858667904100823 | Validation MSE=5121118720.45\n",
      "learning_rate=0.0012742749857031334 | Validation MSE=5062094376.38\n",
      "learning_rate=0.0018329807108324356 | Validation MSE=5018758153.29\n",
      "learning_rate=0.0026366508987303583 | Validation MSE=4988434346.77\n",
      "learning_rate=0.00379269019073225 | Validation MSE=4967252630.24\n",
      "learning_rate=0.005455594781168515 | Validation MSE=4951884970.01\n",
      "learning_rate=0.007847599703514606 | Validation MSE=4940298464.61\n",
      "learning_rate=0.011288378916846883 | Validation MSE=4931654832.01\n",
      "learning_rate=0.01623776739188721 | Validation MSE=4925110622.36\n",
      "learning_rate=0.023357214690901212 | Validation MSE=4919642363.60\n",
      "learning_rate=0.03359818286283781 | Validation MSE=4914836279.54\n",
      "learning_rate=0.04832930238571752 | Validation MSE=4911022378.86\n",
      "learning_rate=0.06951927961775606 | Validation MSE=4908614832.18\n",
      "learning_rate=0.1 | Validation MSE=4907535562.09\n",
      "\n",
      "Best learning rate: 0.1\n"
     ]
    },
    {
     "data": {
      "image/png": "[encoded data removed]",
      "text/plain": [
       "<Figure size 800x500 with 1 Axes>"
      ]
     },
     "metadata": {},
     "output_type": "display_data"
    }
   ],
   "source": [
    "# Try different learning rates \n",
    "learning_rates = np.logspace(-4, -1, 20) \n",
    "validation_mse = []\n",
    "all_loss_histories = []\n",
    "\n",
    "for lr in learning_rates:\n",
    "    w_gd, loss_history = gradient_descent(X_train_scaled, y_train, learning_rate=lr, iterations=5000)\n",
    "    y_val_pred = np.c_[np.ones((X_val_scaled.shape[0], 1)), X_val_scaled].dot(w_gd)\n",
    "    \n",
    "    mse = mean_squared_error(y_val, y_val_pred)\n",
    "    validation_mse.append(mse)\n",
    "    all_loss_histories.append(loss_history)\n",
    "    \n",
    "    print(f\"learning_rate={lr} | Validation MSE={mse:.2f}\")\n",
    "\n",
    "# Pick best learning rate\n",
    "best_idx = np.argmin(validation_mse)\n",
    "best_lr = learning_rates[best_idx]\n",
    "print(\"\\nBest learning rate:\", best_lr)\n",
    "\n",
    "# Plot Learning Rate vs Validation MSE \n",
    "plt.figure(figsize=(8,5))\n",
    "plt.plot(learning_rates, validation_mse, marker='o', color='red')\n",
    "plt.xscale('log')\n",
    "plt.xlabel(\"Learning Rate\")\n",
    "plt.ylabel(\"Validation MSE\")\n",
    "plt.title(\"Learning Rate vs Validation MSE\")\n",
    "plt.grid(True)\n",
    "plt.show()"
   ]
  },
  {
   "cell_type": "markdown",
   "id": "391f21e7-400a-4f8b-ac05-fb7d48fa13bc",
   "metadata": {},
   "source": [
    "### L2 Regularization (Ridge Regression)"
   ]
  },
  {
   "cell_type": "code",
   "execution_count": 73,
   "id": "5c56e5f3-ce9f-4241-857f-f761368bb0d0",
   "metadata": {},
   "outputs": [
    {
     "name": "stdout",
     "output_type": "stream",
     "text": [
      "[117112.61940237 332653.97672069 406311.58629568 ... 254464.46532736\n",
      " 142097.98861339 205083.51061669]\n"
     ]
    }
   ],
   "source": [
    "def ridge_regression(X, y, lampda=0.0001):\n",
    "    n = len(y)\n",
    "    X_b = np.c_[np.ones((n, 1)), X]\n",
    "    I = np.eye(X_b.shape[1])\n",
    "    I[0,0] = 0  # Do not penalize bias operator.\n",
    "    w_l2 = np.linalg.inv(X_b.T.dot(X_b) + lampda  *I).dot(X_b.T).dot(y)\n",
    "    return w_l2\n",
    "    \n",
    "w_l2 = ridge_regression(X_train_scaled, y_train)\n",
    "y_val_pred_l2 = np.c_[np.ones((X_val.shape[0], 1)), X_val_scaled].dot(w_l2)\n",
    "\n",
    "print(y_val_pred_l2)"
   ]
  },
  {
   "cell_type": "code",
   "execution_count": 203,
   "id": "0d3c2e1e-fcac-4750-bf3e-70141e258945",
   "metadata": {},
   "outputs": [
    {
     "name": "stdout",
     "output_type": "stream",
     "text": [
      "Best lambda: 0.0001\n"
     ]
    },
    {
     "data": {
      "image/png": "[encoded data removed]",
      "text/plain": [
       "<Figure size 800x500 with 1 Axes>"
      ]
     },
     "metadata": {},
     "output_type": "display_data"
    },
    {
     "name": "stdout",
     "output_type": "stream",
     "text": [
      "Validation MSE for best lambda: 4907212001.132565\n",
      "Validation MAE for best lambda: 50790.06063210825\n"
     ]
    }
   ],
   "source": [
    "lambdas = np.logspace(-4, 3, 50)\n",
    "results = []\n",
    "\n",
    "# Compute MSE & MAE for each lambda\n",
    "for l in lambdas:\n",
    "    w_l2 = ridge_regression(X_train_scaled, y_train, lampda=l)\n",
    "    y_val_pred_l2 = np.c_[np.ones((X_val.shape[0], 1)), X_val_scaled] @ w_l2\n",
    "    \n",
    "    mse = mean_squared_error(y_val, y_val_pred_l2)\n",
    "    mae = mean_absolute_error(y_val, y_val_pred_l2)\n",
    "    \n",
    "    results.append((l, mse, mae))\n",
    "\n",
    "# Convert results to arrays\n",
    "lambdas_array = np.array([r[0] for r in results])\n",
    "mse_array = np.array([r[1] for r in results])\n",
    "mae_array = np.array([r[2] for r in results])\n",
    "\n",
    "# Find best lambda\n",
    "best_result = min(results, key=lambda x: x[1])\n",
    "best_lambda = best_result[0]\n",
    "print(\"Best lambda:\", best_lambda)\n",
    "\n",
    "# Re-train final model on best lambda\n",
    "w_l2_best = ridge_regression(X_train_scaled, y_train, lampda=best_lambda)\n",
    "y_test_pred_l2 = np.c_[np.ones((X_test.shape[0], 1)), X_test_scaled].dot(w_l2_best)\n",
    "\n",
    "# Plot MSE vs Lambda \n",
    "plt.figure(figsize=(8,5))\n",
    "plt.plot(lambdas_array, mse_array, marker='o', label='Validation MSE')\n",
    "plt.axvline(best_lambda, color='r', linestyle='--', label=f'Best lambda={best_lambda}')\n",
    "plt.xscale('log')\n",
    "plt.xlabel(\"Lambda (λ)\")\n",
    "plt.ylabel(\"Validation MSE\")\n",
    "plt.title(\"Ridge Regression - Validation Error vs Lambda\")\n",
    "plt.grid(True)\n",
    "plt.legend()\n",
    "plt.show()\n",
    "\n",
    "# ---------------- Print final metrics ----------------\n",
    "print(\"Validation MSE for best lambda:\", min(mse_array))\n",
    "print(\"Validation MAE for best lambda:\", mae_array[np.argmin(mse_array)])\n"
   ]
  },
  {
   "cell_type": "code",
   "execution_count": 75,
   "id": "91d8c234-a821-4353-8d46-11d4b47323c8",
   "metadata": {},
   "outputs": [
    {
     "name": "stdout",
     "output_type": "stream",
     "text": [
      "206923.9608942414 115745.23650984169\n",
      "205385.48032851474 91965.20108301938\n"
     ]
    }
   ],
   "source": [
    "print(np.mean(y_train), np.std(y_train))\n",
    "print(np.mean(y_val_pred_l2), np.std(y_val_pred_l2))"
   ]
  },
  {
   "cell_type": "markdown",
   "id": "86685711-4418-4559-b3bf-c0904e385e3a",
   "metadata": {},
   "source": [
    "# Part 2: Regression Models using Scikit-Learn"
   ]
  },
  {
   "cell_type": "markdown",
   "id": "a8571775-5295-4c33-a6d4-5d211fdecf2b",
   "metadata": {},
   "source": [
    "## Linear Regression"
   ]
  },
  {
   "cell_type": "code",
   "execution_count": 78,
   "id": "2a2f6ace-35d3-43f1-9c49-0ba71e744f66",
   "metadata": {},
   "outputs": [
    {
     "name": "stdout",
     "output_type": "stream",
     "text": [
      "Final Test Results:\n",
      "MSE: 4400953150.613741\n",
      "MAE: 48782.03108085671\n"
     ]
    }
   ],
   "source": [
    "#Linear Regression\n",
    "\n",
    "#Training the Model\n",
    "regressor = LinearRegression()\n",
    "regressor.fit(X_train_scaled, y_train)\n",
    "\n",
    "# Predict on validation data\n",
    "y_pred = regressor.predict(X_val_scaled)\n",
    "\n",
    "\n",
    "# Evaluate using validation set\n",
    "mse = mean_squared_error(y_val, y_pred)\n",
    "mae = mean_absolute_error(y_val, y_pred)\n",
    "\n",
    "#Fianl Evaluation with the testing Set\n",
    "y_pred_test = regressor.predict(X_test_scaled)\n",
    "\n",
    "mse_linear = mean_squared_error(y_test,y_pred_test)\n",
    "mae_linear = mean_absolute_error(y_test,y_pred_test)\n",
    "\n",
    "print(\"Final Test Results:\")\n",
    "print(\"MSE:\", mse_linear)\n",
    "print(\"MAE:\", mae_linear)"
   ]
  },
  {
   "cell_type": "markdown",
   "id": "20fa2297-025a-4f0a-abe0-6608952f484c",
   "metadata": {},
   "source": [
    "## Model 2: Lasso Regression (L1)"
   ]
  },
  {
   "cell_type": "code",
   "execution_count": 80,
   "id": "fafe6f92-1278-4a88-9539-8e04a560a12e",
   "metadata": {},
   "outputs": [
    {
     "name": "stdout",
     "output_type": "stream",
     "text": [
      "\n",
      "Best alpha: 0.001\n",
      "\n",
      "Final Test Results:\n",
      "MSE: 4400953150.613741\n",
      "MAE: 48782.03108085671\n"
     ]
    }
   ],
   "source": [
    "# L1 Regularization (Lasso Regression)\n",
    "\n",
    "alphas = [0.001, 0.005, 0.01, 0.1, 1, 10]\n",
    "lasso_results = []\n",
    "\n",
    "for a in alphas:\n",
    "    model = Lasso(alpha=a, max_iter=200000, tol=0.01) \n",
    "    model.fit(X_train_scaled, y_train)\n",
    "    y_pred = model.predict(X_val_scaled)\n",
    "    mse = mean_squared_error(y_val, y_pred)\n",
    "    mae = mean_absolute_error(y_val, y_pred)\n",
    "    lasso_results.append((a, mse, mae))\n",
    "\n",
    "# Pick best alpha\n",
    "best_result = min(lasso_results, key=lambda x: x[1])\n",
    "best_alpha = best_result[0]\n",
    "print(\"\\nBest alpha:\", best_alpha)\n",
    "\n",
    "# Train final model on training + validation\n",
    "final_model = Lasso(alpha=best_alpha, max_iter=200000, tol=0.01)\n",
    "final_model.fit(np.concatenate((X_train_scaled, X_val_scaled)),\n",
    "                np.concatenate((y_train, y_val)))\n",
    "mse_lasso = mean_squared_error(y_test, y_pred_test)\n",
    "mae_lasso = mean_absolute_error(y_test, y_pred_test)\n",
    "# Test evaluation\n",
    "y_pred_test = final_model.predict(X_test_scaled)\n",
    "print(\"\\nFinal Test Results:\")\n",
    "print(\"MSE:\", mse_lasso )\n",
    "print(\"MAE:\", mae_lasso)\n"
   ]
  },
  {
   "cell_type": "markdown",
   "id": "264d945b-05d9-4de2-b0b0-45bb5e05d149",
   "metadata": {},
   "source": [
    "## Model 3: Ridge Regression (L2)"
   ]
  },
  {
   "cell_type": "code",
   "execution_count": 82,
   "id": "20ce9bc2-bb70-4fcb-80f0-8d6d93a50341",
   "metadata": {},
   "outputs": [
    {
     "name": "stdout",
     "output_type": "stream",
     "text": [
      "\n",
      "Best alpha: 0.001\n",
      "\n",
      "Final Test Results:\n",
      "MSE: 4400899527.616999\n",
      "MAE: 48842.22539295722\n"
     ]
    }
   ],
   "source": [
    "#L2 Regularization (Ridge Regression)\n",
    "alphas = [0.001, 0.005, 0.01, 0.1, 1, 10]\n",
    "ridge_results = []\n",
    "\n",
    "for a in alphas:\n",
    "    model = Ridge(alpha=a, max_iter=200000, tol=0.01) \n",
    "    model.fit(X_train_scaled, y_train)\n",
    "    y_pred = model.predict(X_val_scaled)\n",
    "    mse = mean_squared_error(y_val, y_pred)\n",
    "    mae = mean_absolute_error(y_val, y_pred)\n",
    "    ridge_results.append((a, mse, mae))\n",
    "\n",
    "# Pick best alpha\n",
    "best_result = min(ridge_results, key=lambda x: x[1])\n",
    "best_alpha = best_result[0]\n",
    "print(\"\\nBest alpha:\", best_alpha)\n",
    "\n",
    "# Train final model on training + validation\n",
    "final_model = Ridge(alpha=best_alpha, max_iter=200000, tol=0.01)\n",
    "final_model.fit(np.concatenate((X_train_scaled, X_val_scaled)),\n",
    "                np.concatenate((y_train, y_val)))\n",
    "mse_ridge =  mean_squared_error(y_test, y_pred_test)\n",
    "mae_ridge =  mean_absolute_error(y_test, y_pred_test)\n",
    "# Test evaluation\n",
    "y_pred_test = final_model.predict(X_test_scaled)\n",
    "print(\"\\nFinal Test Results:\")\n",
    "print(\"MSE:\", mse_ridge)\n",
    "print(\"MAE:\", mae_ridge)"
   ]
  },
  {
   "cell_type": "markdown",
   "id": "a6a3037e-e266-4d81-9bde-6f78a0f7463b",
   "metadata": {},
   "source": [
    "## Final Results"
   ]
  },
  {
   "cell_type": "code",
   "execution_count": 138,
   "id": "c5497424-794b-4fad-ba0a-e173a9143621",
   "metadata": {},
   "outputs": [
    {
     "name": "stdout",
     "output_type": "stream",
     "text": [
      "Model from Scratch Results\n",
      "\n",
      "Linear Test Results:\n",
      "MSE: 4400953150.63138\n",
      "MAE: 48782.03108327907\n",
      "\n",
      "\n",
      "Linear Test results optimized with Gradient Descent:\n",
      "MSE_gd: 4400951605.933406\n",
      "MAE_gd: 48782.0367379728\n",
      "\n",
      "\n",
      "Ridge Test Results:\n",
      "MSE_l2: 4400952696.86491\n",
      "MAE_l2: 48782.03331235344\n",
      "\n",
      "\n",
      "Skitlearn Model Results \n",
      "\n",
      "Linear Test Results:\n",
      "MSE: 4400953150.613741\n",
      "MAE: 48782.03108085671\n",
      "\n",
      "\n",
      "Lasso Test Results:\n",
      "MSE: 4400953150.613741\n",
      "MAE: 48782.03108085671\n",
      "\n",
      "\n",
      "Ridge Test Results:\n",
      "MSE: 4400899527.616999\n",
      "MAE: 48842.22539295722\n"
     ]
    }
   ],
   "source": [
    "#Model from Scratch Results\n",
    "mse_value = mean_squared_error_manual(y_test, y_test_pred)\n",
    "mae_value = mean_absolute_error_manual(y_test, y_test_pred)\n",
    "\n",
    "mse_value_gd = mean_squared_error_manual(y_test, y_test_pred_best)\n",
    "mae_value_gd = mean_absolute_error_manual(y_test, y_test_pred_best)\n",
    "\n",
    "mse_value_l2 = mean_squared_error_manual(y_test, y_test_pred_l2)\n",
    "mae_value_l2 = mean_absolute_error_manual(y_test, y_test_pred_l2)\n",
    "print(\"Model from Scratch Results\\n\")\n",
    "print(\"Linear Test Results:\")\n",
    "print(f\"MSE: {mse_value}\")\n",
    "print(f\"MAE: {mae_value}\")\n",
    "print(\"\\n\")\n",
    "print(\"Linear Test results optimized with Gradient Descent:\")\n",
    "print(f\"MSE_gd: {mse_value_gd}\")\n",
    "print(f\"MAE_gd: {mae_value_gd}\")\n",
    "print(\"\\n\")\n",
    "print(\"Ridge Test Results:\")\n",
    "print(f\"MSE_l2: {mse_value_l2}\")\n",
    "print(f\"MAE_l2: {mae_value_l2}\")\n",
    "\n",
    "#Skitlearn Model Results\n",
    "print(\"\\n\")\n",
    "print(\"Skitlearn Model Results \\n\")\n",
    "print(\"Linear Test Results:\")\n",
    "print(\"MSE:\", mse_linear)\n",
    "print(\"MAE:\", mae_linear)\n",
    "print(\"\\n\")\n",
    "print(\"Lasso Test Results:\")\n",
    "print(\"MSE:\", mse_lasso )\n",
    "print(\"MAE:\", mae_lasso)\n",
    "print(\"\\n\")\n",
    "print(\"Ridge Test Results:\")\n",
    "print(\"MSE:\", mse_ridge)\n",
    "print(\"MAE:\", mae_ridge)"
   ]
  }
 ],
 "metadata": {
  "kernelspec": {
   "display_name": "Python 3 (ipykernel)",
   "language": "python",
   "name": "python3"
  },
  "language_info": {
   "codemirror_mode": {
    "name": "ipython",
    "version": 3
   },
   "file_extension": ".py",
   "mimetype": "text/x-python",
   "name": "python",
   "nbconvert_exporter": "python",
   "pygments_lexer": "ipython3",
   "version": "3.12.4"
  }
 },
 "nbformat": 4,
 "nbformat_minor": 5
}
